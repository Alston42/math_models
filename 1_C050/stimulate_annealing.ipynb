{
 "cells": [
  {
   "cell_type": "code",
   "execution_count": 1,
   "metadata": {},
   "outputs": [
    {
     "name": "stdout",
     "output_type": "stream",
     "text": [
      "S: [[1.15 1.15 1.15 1.15 1.15 1.15 1.15]\n",
      " [1.4  1.4  1.4  1.4  1.4  1.4  1.4 ]\n",
      " [0.25 0.25 0.25 0.25 0.25 0.25 0.25]\n",
      " [0.5  0.5  0.5  0.5  0.5  0.5  0.5 ]]\n",
      "L: [0.1525 0.0943 0.1607 0.0761]\n",
      "B: [3.29 4.59 8.09 1.4 ]\n",
      "上界 [[ 4.935  6.885 12.135  2.1  ]\n",
      " [ 2.5    2.5    2.5    4.5  ]]\n",
      "下界 [[3.619 5.049 8.899 1.54 ]\n",
      " [1.15  1.4   0.25  0.5  ]]\n"
     ]
    },
    {
     "name": "stderr",
     "output_type": "stream",
     "text": [
      "/tmp/ipykernel_23253/4017950372.py:47: DeprecationWarning: Conversion of an array with ndim > 0 to a scalar is deprecated, and will error in future. Ensure you extract a single element from your array before performing this operation. (Deprecated NumPy 1.25.)\n",
      "  x0[j, i] = x_lb[i, j] + (x_ub[i, j] - x_lb[i, j]) * np.random.rand(1)\n",
      "/tmp/ipykernel_23253/4017950372.py:61: DeprecationWarning: Conversion of an array with ndim > 0 to a scalar is deprecated, and will error in future. Ensure you extract a single element from your array before performing this operation. (Deprecated NumPy 1.25.)\n",
      "  x_new[i, j] = r * x_lb[j, i] + (1 - r) * x0[i, j]\n",
      "/tmp/ipykernel_23253/4017950372.py:64: DeprecationWarning: Conversion of an array with ndim > 0 to a scalar is deprecated, and will error in future. Ensure you extract a single element from your array before performing this operation. (Deprecated NumPy 1.25.)\n",
      "  x_new[i, j] = r * x_ub[j, i] + (1 - r) * x0[i, j]\n"
     ]
    },
    {
     "name": "stdout",
     "output_type": "stream",
     "text": [
      "最佳的位置是： [[ 4.935  1.15 ]\n",
      " [ 6.885  1.4  ]\n",
      " [12.135  0.25 ]\n",
      " [ 2.1    0.5  ]]\n",
      "此时最优值是： 34.33331089999999\n"
     ]
    }
   ],
   "source": [
    "import numpy as np\n",
    "import pandas as pd\n",
    "import matplotlib.pyplot as plt\n",
    "\n",
    "def xlsread(filename, sheetname, _usecols, _userows):\n",
    "    df = pd.read_excel(filename, sheet_name=sheetname, usecols=_usecols)\n",
    "    df = df.loc[_userows[0]:_userows[1]]\n",
    "    return df.values\n",
    "\n",
    "# 由于论文展示数据未完全，只用到四大蔬菜品类相关数据，且其实际为某一单品的数据而非整个品类\n",
    "S = xlsread('未来一周六大类日销预测.xlsx', 'Sheet1', 'B:E', [0,6]).transpose()\n",
    "L = xlsread('六大蔬菜品类平均损耗率.xlsx', 'Sheet1', 'A:D', [0,0])[0]\n",
    "B = xlsread('六大蔬菜品类每日进货价.xlsx', 'Sheet1', 'A:D', [0,0])[0]\n",
    "print(\"S:\", S)\n",
    "print(\"L:\", L)\n",
    "print(\"B:\", B)\n",
    "\n",
    "def Gain(x):\n",
    "    w = 0\n",
    "    for i in range(4):\n",
    "        for j in range(7):\n",
    "            w += S[i, j] * (x[i, 0] - B[i]) - L[i] * x[i, 1] * B[i]\n",
    "    return w\n",
    "\n",
    "narvs = 2 ## %1: 售价 %2：进货量\n",
    "T0 = 100\n",
    "T = T0\n",
    "maxgen = 200\n",
    "Lk = 100\n",
    "alfa = 0.95\n",
    "\n",
    "x_lb = np.zeros((narvs, 4))\n",
    "x_ub = np.zeros((narvs, 4))\n",
    "for i in range(4):\n",
    "    x_lb[0, i] = (B[i] * 1.1)\n",
    "    x_ub[0, i] = (B[i] * 1.5)\n",
    "    # 缺乏合适的数据，先用定值\n",
    "    x_lb[1, i] = S[i, 0]\n",
    "x_ub[1] = [2.5, 2.5, 2.5, 4.5]\n",
    "\n",
    "print(\"上界\", x_ub)\n",
    "print(\"下界\", x_lb)\n",
    "\n",
    "x0 = np.zeros((4, narvs))\n",
    "for i in range(narvs):\n",
    "    for j in range(4):\n",
    "        x0[j, i] = x_lb[i, j] + (x_ub[i, j] - x_lb[i, j]) * np.random.rand(1)\n",
    "y0 = Gain(x0)\n",
    "max_y = y0\n",
    "MAXY = np.zeros((maxgen, 1))\n",
    "\n",
    "for iter in range(maxgen):  # 外循环\n",
    "    for i in range(Lk):     # 内循环\n",
    "        y = np.random.randn(1, narvs)\n",
    "        z = y / np.sqrt(np.sum(y**2))\n",
    "        x_new = x0 + z * T\n",
    "        for i in range(4):\n",
    "            for j in range(narvs):\n",
    "                if x_new[i, j] < x_lb[j, i]:\n",
    "                    r = np.random.rand(1)\n",
    "                    x_new[i, j] = r * x_lb[j, i] + (1 - r) * x0[i, j]\n",
    "                elif x_new[i, j] > x_ub[j, i]:\n",
    "                    r = np.random.rand(1)\n",
    "                    x_new[i, j] = r * x_ub[j, i] + (1 - r) * x0[i, j]\n",
    "        x1 = x_new\n",
    "        y1 = Gain(x1)\n",
    "        if y1 > y0:\n",
    "            x0 = x1\n",
    "            y0 = y1\n",
    "        else:\n",
    "            p = np.exp(-(y0 - y1) / T)\n",
    "            if np.random.rand(1) < p:\n",
    "                x0 = x1\n",
    "                y0 = y1\n",
    "        if y0 > max_y:\n",
    "            max_y = y0\n",
    "            best_x = x0\n",
    "    MAXY[iter] = max_y\n",
    "    T = alfa * T\n",
    "\n",
    "print('最佳的位置是：', best_x)\n",
    "print('此时最优值是：', max_y)"
   ]
  }
 ],
 "metadata": {
  "kernelspec": {
   "display_name": "base",
   "language": "python",
   "name": "python3"
  },
  "language_info": {
   "codemirror_mode": {
    "name": "ipython",
    "version": 3
   },
   "file_extension": ".py",
   "mimetype": "text/x-python",
   "name": "python",
   "nbconvert_exporter": "python",
   "pygments_lexer": "ipython3",
   "version": "3.12.4"
  }
 },
 "nbformat": 4,
 "nbformat_minor": 2
}
